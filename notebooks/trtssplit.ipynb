{
 "cells": [
  {
   "cell_type": "code",
   "execution_count": 4,
   "metadata": {},
   "outputs": [],
   "source": [
    "import os\n",
    "import shutil\n",
    "from sklearn.model_selection import train_test_split"
   ]
  },
  {
   "cell_type": "code",
   "execution_count": 6,
   "metadata": {},
   "outputs": [
    {
     "name": "stdout",
     "output_type": "stream",
     "text": [
      "Файлы успешно перемещены!\n"
     ]
    }
   ],
   "source": [
    "# Путь к папке с данными\n",
    "data_dir = '/home/andrew/works/shpad_add/Detection-of-welding-seams/dataset_copy'\n",
    "train_images_dir = os.path.join(data_dir, 'train/images')\n",
    "train_labels_dir = os.path.join(data_dir, 'train/labels')\n",
    "test_images_dir = os.path.join(data_dir, 'test/images')\n",
    "test_labels_dir = os.path.join(data_dir, 'test/labels')\n",
    "\n",
    "# Создаем папки, если они не существуют\n",
    "os.makedirs(train_images_dir, exist_ok=True)\n",
    "os.makedirs(train_labels_dir, exist_ok=True)\n",
    "os.makedirs(test_images_dir, exist_ok=True)\n",
    "os.makedirs(test_labels_dir, exist_ok=True)\n",
    "\n",
    "# Получаем списки файлов\n",
    "image_files = sorted([f for f in os.listdir(data_dir) if f.endswith('.jpg')])\n",
    "label_files = sorted([f for f in os.listdir(data_dir) if f.endswith('.txt')])\n",
    "\n",
    "# Проверка соответствия между изображениями и метками\n",
    "assert len(image_files) == len(label_files), \"Количество изображений и меток не совпадает\"\n",
    "\n",
    "# Делим на тренировочный и тестовый наборы (80% train, 20% test)\n",
    "train_images, test_images, train_labels, test_labels = train_test_split(\n",
    "    image_files, label_files, test_size=0.2, random_state=42)\n",
    "\n",
    "# Перемещаем файлы в соответствующие папки\n",
    "for img, lbl in zip(train_images, train_labels):\n",
    "    shutil.move(os.path.join(data_dir, img), os.path.join(train_images_dir, img))\n",
    "    shutil.move(os.path.join(data_dir, lbl), os.path.join(train_labels_dir, lbl))\n",
    "\n",
    "for img, lbl in zip(test_images, test_labels):\n",
    "    shutil.move(os.path.join(data_dir, img), os.path.join(test_images_dir, img))\n",
    "    shutil.move(os.path.join(data_dir, lbl), os.path.join(test_labels_dir, lbl))\n",
    "\n",
    "print(\"Файлы успешно перемещены!\")\n"
   ]
  },
  {
   "cell_type": "code",
   "execution_count": null,
   "metadata": {},
   "outputs": [],
   "source": []
  },
  {
   "cell_type": "code",
   "execution_count": 2,
   "metadata": {},
   "outputs": [
    {
     "name": "stdout",
     "output_type": "stream",
     "text": [
      "Файлы успешно перемещены и перемешаны!\n"
     ]
    }
   ],
   "source": [
    "import os\n",
    "import shutil\n",
    "import random\n",
    "\n",
    "# Путь к папке с данными\n",
    "data_dir = '/home/andrew/works/shpad_add/Detection-of-welding-seams/dataset_copy_2'\n",
    "images_dir = os.path.join(data_dir, 'images')\n",
    "labels_dir = os.path.join(data_dir, 'labels')\n",
    "\n",
    "# Создаем папки, если они не существуют\n",
    "os.makedirs(images_dir, exist_ok=True)\n",
    "os.makedirs(labels_dir, exist_ok=True)\n",
    "\n",
    "# Собираем пары изображений и меток\n",
    "file_pairs = [(f, f.replace('.jpg', '.txt')) for f in os.listdir(data_dir) if f.endswith('.jpg')]\n",
    "\n",
    "# Перемешиваем пары\n",
    "random.shuffle(file_pairs)\n",
    "\n",
    "# Перемещаем файлы в соответствующие папки\n",
    "for img_file, label_file in file_pairs:\n",
    "    shutil.move(os.path.join(data_dir, img_file), os.path.join(images_dir, img_file))\n",
    "    shutil.move(os.path.join(data_dir, label_file), os.path.join(labels_dir, label_file))\n",
    "\n",
    "print(\"Файлы успешно перемещены и перемешаны!\")\n"
   ]
  },
  {
   "cell_type": "code",
   "execution_count": null,
   "metadata": {},
   "outputs": [],
   "source": []
  },
  {
   "cell_type": "markdown",
   "metadata": {},
   "source": [
    "# НУ ТУТ ВАЩЕЕЕ такое сделаю, вау"
   ]
  },
  {
   "cell_type": "code",
   "execution_count": 1,
   "metadata": {},
   "outputs": [
    {
     "name": "stdout",
     "output_type": "stream",
     "text": [
      "Файлы успешно перемещены!\n"
     ]
    }
   ],
   "source": [
    "import os\n",
    "import shutil\n",
    "\n",
    "# Пути к вашей директории\n",
    "base_dir = '/home/andrew/works/shpad_add/Detection-of-welding-seams/dataset_copy_56'  # укажите путь к вашей директории\n",
    "train_images_dir = os.path.join(base_dir, 'train', 'images')\n",
    "train_labels_dir = os.path.join(base_dir, 'train', 'labels')\n",
    "test_images_dir = os.path.join(base_dir, 'test', 'images')\n",
    "test_labels_dir = os.path.join(base_dir, 'test', 'labels')\n",
    "\n",
    "# Создаем необходимые папки\n",
    "os.makedirs(train_images_dir, exist_ok=True)\n",
    "os.makedirs(train_labels_dir, exist_ok=True)\n",
    "os.makedirs(test_images_dir, exist_ok=True)\n",
    "os.makedirs(test_labels_dir, exist_ok=True)\n",
    "\n",
    "# Функция для перемещения файлов\n",
    "def move_files(file_list, target_images_dir, target_labels_dir):\n",
    "    for file in file_list:\n",
    "        # Определяем, это изображение или лейбл\n",
    "        if file.endswith('.jpg'):\n",
    "            shutil.move(os.path.join(base_dir, file), os.path.join(target_images_dir, file))\n",
    "        elif file.endswith('.txt'):\n",
    "            shutil.move(os.path.join(base_dir, file), os.path.join(target_labels_dir, file))\n",
    "\n",
    "# Список всех файлов\n",
    "all_files = os.listdir(base_dir)\n",
    "\n",
    "# Фильтруем тестовые файлы\n",
    "test_files = [file for file in all_files if file[0] in ['5', '6']]\n",
    "\n",
    "# Определяем тренировочные файлы\n",
    "train_files = [file for file in all_files if file not in test_files]\n",
    "\n",
    "# Перемещаем файлы\n",
    "move_files(train_files, train_images_dir, train_labels_dir)\n",
    "move_files(test_files, test_images_dir, test_labels_dir)\n",
    "\n",
    "print(\"Файлы успешно перемещены!\")\n"
   ]
  },
  {
   "cell_type": "code",
   "execution_count": null,
   "metadata": {},
   "outputs": [],
   "source": []
  }
 ],
 "metadata": {
  "kernelspec": {
   "display_name": "Python 3 (ipykernel)",
   "language": "python",
   "name": "python3"
  },
  "language_info": {
   "codemirror_mode": {
    "name": "ipython",
    "version": 3
   },
   "file_extension": ".py",
   "mimetype": "text/x-python",
   "name": "python",
   "nbconvert_exporter": "python",
   "pygments_lexer": "ipython3",
   "version": "3.9.19"
  }
 },
 "nbformat": 4,
 "nbformat_minor": 2
}
