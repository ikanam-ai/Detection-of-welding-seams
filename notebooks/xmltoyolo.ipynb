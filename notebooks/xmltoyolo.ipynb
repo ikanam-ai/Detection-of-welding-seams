{
 "cells": [
  {
   "cell_type": "code",
   "execution_count": 1,
   "metadata": {},
   "outputs": [],
   "source": [
    "import xml.etree.ElementTree as ET"
   ]
  },
  {
   "cell_type": "code",
   "execution_count": 2,
   "metadata": {},
   "outputs": [],
   "source": [
    "def convert_to_yolo(size, box):\n",
    "    \"\"\"\n",
    "    Преобразует координаты ограничивающего прямоугольника из формата XML в формат YOLO.\n",
    "    \n",
    "    size: размер изображения (ширина, высота)\n",
    "    box: координаты ограничивающего прямоугольника (xmin, xmax, ymin, ymax)\n",
    "    \n",
    "    Возвращает: координаты в формате YOLO (x_center, y_center, width, height)\n",
    "    \"\"\"\n",
    "    dw = 1.0 / size[0]\n",
    "    dh = 1.0 / size[1]\n",
    "    x_center = (box[0] + box[1]) / 2.0\n",
    "    y_center = (box[2] + box[3]) / 2.0\n",
    "    width = box[1] - box[0]\n",
    "    height = box[3] - box[2]\n",
    "    return (x_center * dw, y_center * dh, width * dw, height * dh)"
   ]
  },
  {
   "cell_type": "code",
   "execution_count": 3,
   "metadata": {},
   "outputs": [],
   "source": [
    "def convert_xml_to_yolo(xml_file, output_dir):\n",
    "    \"\"\"\n",
    "    Конвертирует аннотацию XML в формат YOLO.\n",
    "    \n",
    "    xml_file: путь к XML файлу\n",
    "    output_dir: директория для сохранения YOLO файлов\n",
    "    \"\"\"\n",
    "    tree = ET.parse(xml_file)\n",
    "    root = tree.getroot()\n",
    "    \n",
    "    size = root.find('size')\n",
    "    width = int(size.find('width').text)\n",
    "    height = int(size.find('height').text)\n",
    "    \n",
    "    for obj in root.findall('object'):\n",
    "        name = obj.find('name').text\n",
    "        if name == 'crazing':\n",
    "            class_id = 0  # Здесь можно указать id класса для \"crazing\"\n",
    "        elif name == 'inclusion':\n",
    "            class_id = 1\n",
    "        elif name == 'patches':\n",
    "            class_id = 2\n",
    "        elif name == 'pitted_surface':\n",
    "            class_id = 3\n",
    "        elif name == 'rolled-in_scale':\n",
    "            class_id = 4\n",
    "        elif name == 'scratches':\n",
    "            class_id = 5\n",
    "        else:\n",
    "            continue\n",
    "        \n",
    "        bndbox = obj.find('bndbox')\n",
    "        xmin = int(bndbox.find('xmin').text)\n",
    "        ymin = int(bndbox.find('ymin').text)\n",
    "        xmax = int(bndbox.find('xmax').text)\n",
    "        ymax = int(bndbox.find('ymax').text)\n",
    "        \n",
    "        box = (xmin, xmax, ymin, ymax)\n",
    "        yolo_box = convert_to_yolo((width, height), box)\n",
    "        \n",
    "        filename = root.find('filename').text\n",
    "        yolo_filename = f\"{output_dir}/{filename.split('.')[0]}.txt\"\n",
    "        \n",
    "        with open(yolo_filename, 'w') as f:\n",
    "            f.write(f\"{class_id} {' '.join(map(str, yolo_box))}\\n\")\n"
   ]
  },
  {
   "cell_type": "code",
   "execution_count": null,
   "metadata": {},
   "outputs": [],
   "source": [
    "/home/andrew/works/shpad_add/Detection-of-welding-seams/archive/train_annotations/crazing_2.xml"
   ]
  },
  {
   "cell_type": "code",
   "execution_count": 4,
   "metadata": {},
   "outputs": [],
   "source": [
    "convert_xml_to_yolo('/home/andrew/works/shpad_add/Detection-of-welding-seams/archive/train_annotations/crazing_2.xml', '/home/andrew/works/shpad_add/Detection-of-welding-seams/notebooks')"
   ]
  },
  {
   "cell_type": "code",
   "execution_count": null,
   "metadata": {},
   "outputs": [],
   "source": []
  },
  {
   "cell_type": "code",
   "execution_count": null,
   "metadata": {},
   "outputs": [],
   "source": []
  },
  {
   "cell_type": "code",
   "execution_count": null,
   "metadata": {},
   "outputs": [],
   "source": []
  },
  {
   "cell_type": "code",
   "execution_count": null,
   "metadata": {},
   "outputs": [],
   "source": []
  },
  {
   "cell_type": "code",
   "execution_count": 7,
   "metadata": {},
   "outputs": [],
   "source": [
    "import os"
   ]
  },
  {
   "cell_type": "code",
   "execution_count": 5,
   "metadata": {},
   "outputs": [],
   "source": [
    "def convert_xml_to_yolo(xml_file, output_dir):\n",
    "    \"\"\"\n",
    "    Конвертирует аннотацию XML в формат YOLO.\n",
    "    \n",
    "    xml_file: путь к XML файлу\n",
    "    output_dir: директория для сохранения YOLO файлов\n",
    "    \"\"\"\n",
    "    tree = ET.parse(xml_file)\n",
    "    root = tree.getroot()\n",
    "    \n",
    "    size = root.find('size')\n",
    "    width = int(size.find('width').text)\n",
    "    height = int(size.find('height').text)\n",
    "    \n",
    "    annotations = []\n",
    "    for obj in root.findall('object'):\n",
    "        name = obj.find('name').text\n",
    "        if name == 'crazing':\n",
    "            class_id = 0\n",
    "        elif name == 'inclusion':\n",
    "            class_id = 1\n",
    "        elif name == 'patches':\n",
    "            class_id = 2\n",
    "        elif name == 'pitted_surface':\n",
    "            class_id = 3\n",
    "        elif name == 'rolled-in_scale':\n",
    "            class_id = 4\n",
    "        elif name == 'scratches':\n",
    "            class_id = 5\n",
    "        else:\n",
    "            continue\n",
    "        \n",
    "        bndbox = obj.find('bndbox')\n",
    "        xmin = int(bndbox.find('xmin').text)\n",
    "        ymin = int(bndbox.find('ymin').text)\n",
    "        xmax = int(bndbox.find('xmax').text)\n",
    "        ymax = int(bndbox.find('ymax').text)\n",
    "        \n",
    "        box = (xmin, xmax, ymin, ymax)\n",
    "        yolo_box = convert_to_yolo((width, height), box)\n",
    "        annotations.append(f\"{class_id} {' '.join(map(str, yolo_box))}\")\n",
    "    \n",
    "    if annotations:\n",
    "        filename = root.find('filename').text\n",
    "        yolo_filename = os.path.join(output_dir, f\"{os.path.splitext(filename)[0]}.txt\")\n",
    "        \n",
    "        with open(yolo_filename, 'w') as f:\n",
    "            f.write(\"\\n\".join(annotations))"
   ]
  },
  {
   "cell_type": "code",
   "execution_count": 6,
   "metadata": {},
   "outputs": [],
   "source": [
    "def convert_directory(input_dir, output_dir):\n",
    "    \"\"\"\n",
    "    Конвертирует все XML файлы из входной директории в YOLO формат и сохраняет в выходной директории.\n",
    "    \n",
    "    input_dir: директория с XML файлами\n",
    "    output_dir: директория для сохранения YOLO файлов\n",
    "    \"\"\"\n",
    "    if not os.path.exists(output_dir):\n",
    "        os.makedirs(output_dir)\n",
    "\n",
    "    for file_name in os.listdir(input_dir):\n",
    "        if file_name.endswith('.xml'):\n",
    "            xml_file = os.path.join(input_dir, file_name)\n",
    "            convert_xml_to_yolo(xml_file, output_dir)"
   ]
  },
  {
   "cell_type": "code",
   "execution_count": 8,
   "metadata": {},
   "outputs": [],
   "source": [
    "input_directory = '/home/andrew/works/shpad_add/Detection-of-welding-seams/archive/train_annotations'  # Замените на путь к вашей директории с XML файлами\n",
    "output_directory = '/home/andrew/works/shpad_add/Detection-of-welding-seams/archive/yolo_tr_annotations'  # Замените на путь к директории для сохранения YOLO файлов\n",
    "\n",
    "convert_directory(input_directory, output_directory)"
   ]
  },
  {
   "cell_type": "code",
   "execution_count": null,
   "metadata": {},
   "outputs": [],
   "source": []
  }
 ],
 "metadata": {
  "kernelspec": {
   "display_name": "yolov10",
   "language": "python",
   "name": "python3"
  },
  "language_info": {
   "codemirror_mode": {
    "name": "ipython",
    "version": 3
   },
   "file_extension": ".py",
   "mimetype": "text/x-python",
   "name": "python",
   "nbconvert_exporter": "python",
   "pygments_lexer": "ipython3",
   "version": "3.9.19"
  }
 },
 "nbformat": 4,
 "nbformat_minor": 2
}
